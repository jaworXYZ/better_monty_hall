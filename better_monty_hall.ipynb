{
 "cells": [
  {
   "cell_type": "markdown",
   "metadata": {},
   "source": [
    "# MONTY HALL PROBLEM"
   ]
  },
  {
   "cell_type": "markdown",
   "metadata": {},
   "source": [
    "### DESCRIPTION\n",
    "https://en.wikipedia.org/wiki/Monty_Hall_problem\n",
    "\n",
    "- A prize is behind on of three doors\n",
    "- User chooses a door\n",
    "- User is presented with an alternative choice of door\n",
    "- Alternative choice is the prize door if user didn't originally choose it"
   ]
  },
  {
   "cell_type": "markdown",
   "metadata": {},
   "source": [
    "### EXAMPLE 1: \n",
    "Prize is behind Door A.\n",
    "\n",
    "User chooses Door B.\n",
    "\n",
    "User is offered chance to switch to Door A.\n",
    "\n",
    "User declines switch door.\n",
    "\n",
    "User loses."
   ]
  },
  {
   "cell_type": "markdown",
   "metadata": {},
   "source": [
    "### EXAMPLE 2:\n",
    "\n",
    "Prize is behind Door A.\n",
    "\n",
    "User chooses Door A.\n",
    "\n",
    "User is offered chance to switch to Door B (randomly selected).\n",
    "\n",
    "User declines to switch door.\n",
    "\n",
    "User wins."
   ]
  },
  {
   "cell_type": "code",
   "execution_count": null,
   "metadata": {},
   "outputs": [],
   "source": []
  },
  {
   "cell_type": "code",
   "execution_count": null,
   "metadata": {},
   "outputs": [],
   "source": []
  }
 ],
 "metadata": {
  "kernelspec": {
   "display_name": "Python 3",
   "language": "python",
   "name": "python3"
  },
  "language_info": {
   "codemirror_mode": {
    "name": "ipython",
    "version": 3
   },
   "file_extension": ".py",
   "mimetype": "text/x-python",
   "name": "python",
   "nbconvert_exporter": "python",
   "pygments_lexer": "ipython3",
   "version": "3.7.3"
  }
 },
 "nbformat": 4,
 "nbformat_minor": 4
}
