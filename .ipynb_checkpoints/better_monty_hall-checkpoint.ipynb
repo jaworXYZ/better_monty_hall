{
 "cells": [
  {
   "cell_type": "markdown",
   "metadata": {},
   "source": [
    "# MONTY HALL PROBLEM"
   ]
  },
  {
   "cell_type": "markdown",
   "metadata": {},
   "source": [
    "## DESCRIPTION\n",
    "https://en.wikipedia.org/wiki/Monty_Hall_problem\n",
    "\n",
    "- A prize is behind on of three doors\n",
    "- User chooses a door\n",
    "- User is presented with an alternative choice of door\n",
    "- Alternative choice is the prize door if user didn't originally choose it"
   ]
  },
  {
   "cell_type": "markdown",
   "metadata": {},
   "source": [
    "#### EXAMPLE 1: \n",
    "Prize is behind Door A.\n",
    "\n",
    "User chooses Door B.\n",
    "\n",
    "User is offered chance to switch to Door A.\n",
    "\n",
    "User declines switch door.\n",
    "\n",
    "User loses."
   ]
  },
  {
   "cell_type": "markdown",
   "metadata": {},
   "source": [
    "#### EXAMPLE 2:\n",
    "\n",
    "Prize is behind Door A.\n",
    "\n",
    "User chooses Door A.\n",
    "\n",
    "User is offered chance to switch to Door B (randomly selected).\n",
    "\n",
    "User declines to switch door.\n",
    "\n",
    "User wins."
   ]
  },
  {
   "cell_type": "code",
   "execution_count": 2,
   "metadata": {},
   "outputs": [],
   "source": [
    "import random as random\n",
    "import numpy as np"
   ]
  },
  {
   "cell_type": "markdown",
   "metadata": {},
   "source": [
    "## STANDARD SIMULATION"
   ]
  },
  {
   "cell_type": "code",
   "execution_count": 12,
   "metadata": {},
   "outputs": [
    {
     "data": {
      "text/plain": [
       "'DEBUG--The car is behind Door B.'"
      ]
     },
     "metadata": {},
     "output_type": "display_data"
    },
    {
     "name": "stdin",
     "output_type": "stream",
     "text": [
      "Choose A, B, or C...  b\n"
     ]
    },
    {
     "data": {
      "text/plain": [
       "\"There's a goat behind Door A. Are you confident in your choice of Door B??? \""
      ]
     },
     "metadata": {},
     "output_type": "display_data"
    },
    {
     "name": "stdin",
     "output_type": "stream",
     "text": [
      "Do you want to SWITCH or STAY?  switch\n"
     ]
    },
    {
     "data": {
      "text/plain": [
       "'Hope you like feta...'"
      ]
     },
     "metadata": {},
     "output_type": "display_data"
    }
   ],
   "source": [
    "doors = ['A', 'B', 'C']\n",
    "car_door = random.choice(doors) # randomly assigned\n",
    "display(\"DEBUG--The car is behind Door %s.\" % car_door)\n",
    "\n",
    "guess = input(\"Choose A, B, or C... \").upper()\n",
    "\"\"\"\n",
    "if guess in doors:\n",
    "    display(\"You guessed Door %s!\" % guess)\n",
    "else:\n",
    "    guess = input(\"Try again: Choose A, B, or C... \")\n",
    "\"\"\"\n",
    "\n",
    "    \n",
    "doors.pop(doors.index(car_door))\n",
    "\n",
    "if guess == car_door:\n",
    "    goat_door = random.choice(doors)\n",
    "    win = True\n",
    "else:\n",
    "    doors.pop(doors.index(guess))\n",
    "    goat_door = doors[0]\n",
    "    win = False\n",
    "display(\"There's a goat behind Door %s. Are you confident in your choice of Door %s??? \" % (goat_door, guess))\n",
    "\n",
    "choice = input(\"Do you want to SWITCH or STAY? \").upper()\n",
    "if choice == 'SWITCH':\n",
    "    win = not win\n",
    "if win == True:    \n",
    "    display(\"You're one of life's big winners!!!\")\n",
    "else:\n",
    "    display(\"Hope you like feta...\")"
   ]
  },
  {
   "cell_type": "code",
   "execution_count": 4,
   "metadata": {},
   "outputs": [],
   "source": [
    "def monty(first_guess, switch=False):\n",
    "\n",
    "    doors = ['A', 'B', 'C']\n",
    "    car_door = random.choice(doors)\n",
    "    first_guess = first_guess.upper()\n",
    "    \n",
    "    # keep only \"goat\" doors in list\n",
    "    doors.pop(doors.index(car_door))\n",
    "\n",
    "    if guess == car_door:\n",
    "        goat_door = random.choice(doors)\n",
    "        win = True\n",
    "    else:\n",
    "        doors.pop(doors.index(guess))\n",
    "        goat_door = doors[0]\n",
    "        win = False\n",
    "\n",
    "    if switch:\n",
    "        win = not win\n",
    "        \n",
    "    return win, car_door + first_guess + goat_door + str(switch)"
   ]
  },
  {
   "cell_type": "code",
   "execution_count": 5,
   "metadata": {},
   "outputs": [
    {
     "data": {
      "text/plain": [
       "(False, 'BACFalse')"
      ]
     },
     "execution_count": 5,
     "metadata": {},
     "output_type": "execute_result"
    }
   ],
   "source": [
    "monty('A')"
   ]
  },
  {
   "cell_type": "code",
   "execution_count": 6,
   "metadata": {},
   "outputs": [
    {
     "data": {
      "text/plain": [
       "'Switching won 665 times out of 1000.'"
      ]
     },
     "metadata": {},
     "output_type": "display_data"
    },
    {
     "data": {
      "text/plain": [
       "'Staying would have won the other 335 times.'"
      ]
     },
     "metadata": {},
     "output_type": "display_data"
    }
   ],
   "source": [
    "attempts = 1000\n",
    "switch_wins = 0\n",
    "stay_wins = 0\n",
    "doors = ['A', 'B', 'C']\n",
    "\n",
    "# Switch trials\n",
    "for i in range(attempts):\n",
    "    guess = random.choice(doors)\n",
    "    if monty(guess, True)[0] == True:\n",
    "        switch_wins +=1\n",
    "    else:\n",
    "        stay_wins += 1\n",
    "\n",
    "display(\"Switching won %d times out of %d.\" % (switch_wins, attempts))\n",
    "display(\"Staying would have won the other %d times.\" % stay_wins)"
   ]
  },
  {
   "cell_type": "markdown",
   "metadata": {},
   "source": [
    "## ELEGANT SOLUTION"
   ]
  },
  {
   "cell_type": "code",
   "execution_count": 13,
   "metadata": {},
   "outputs": [
    {
     "data": {
      "text/plain": [
       "'DEBUG--The car is behind Door A.'"
      ]
     },
     "metadata": {},
     "output_type": "display_data"
    },
    {
     "name": "stdin",
     "output_type": "stream",
     "text": [
      "Choose A, B, or C...  a\n"
     ]
    },
    {
     "data": {
      "text/plain": [
       "\"There's a goat behind Door B. Are you confident in your choice of Door A??? \""
      ]
     },
     "metadata": {},
     "output_type": "display_data"
    },
    {
     "name": "stdin",
     "output_type": "stream",
     "text": [
      "Do you want to SWITCH or STAY?  switch\n"
     ]
    },
    {
     "data": {
      "text/plain": [
       "'Hope you like feta...'"
      ]
     },
     "metadata": {},
     "output_type": "display_data"
    }
   ],
   "source": [
    "# BASE CASE\n",
    "doors = ['A', 'B', 'C']\n",
    "car_door = random.choice(doors) # randomly assigned\n",
    "display(\"DEBUG--The car is behind Door %s.\" % car_door)\n",
    "\n",
    "guess = input(\"Choose A, B, or C... \").upper()\n",
    "\"\"\"\n",
    "if guess in doors:\n",
    "    display(\"You guessed Door %s!\" % guess)\n",
    "else:\n",
    "    guess = input(\"Try again: Choose A, B, or C... \")\n",
    "\"\"\"\n",
    "\n",
    "    \n",
    "doors.pop(doors.index(car_door))\n",
    "\n",
    "if guess == car_door:\n",
    "    goat_door = random.choice(doors)\n",
    "    win = True\n",
    "else:\n",
    "    doors.pop(doors.index(guess))\n",
    "    goat_door = doors[0]\n",
    "    win = False\n",
    "display(\"There's a goat behind Door %s. Are you confident in your choice of Door %s??? \" % (goat_door, guess))\n",
    "\n",
    "choice = input(\"Do you want to SWITCH or STAY? \").upper()\n",
    "if choice == 'SWITCH':\n",
    "    win = not win\n",
    "if win == True:    \n",
    "    display(\"You're one of life's big winners!!!\")\n",
    "else:\n",
    "    display(\"Hope you like feta...\")"
   ]
  }
 ],
 "metadata": {
  "kernelspec": {
   "display_name": "Python 3",
   "language": "python",
   "name": "python3"
  },
  "language_info": {
   "codemirror_mode": {
    "name": "ipython",
    "version": 3
   },
   "file_extension": ".py",
   "mimetype": "text/x-python",
   "name": "python",
   "nbconvert_exporter": "python",
   "pygments_lexer": "ipython3",
   "version": "3.7.3"
  }
 },
 "nbformat": 4,
 "nbformat_minor": 4
}
